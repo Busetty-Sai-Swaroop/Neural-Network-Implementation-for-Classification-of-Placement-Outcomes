{
  "cells": [
    {
      "cell_type": "code",
      "execution_count": null,
      "metadata": {
        "colab": {
          "base_uri": "https://localhost:8080/",
          "height": 0
        },
        "id": "k7OO4TYnW4EB",
        "outputId": "d354706e-3f52-4981-e749-607a30e8483a"
      },
      "outputs": [],
      "source": [
        "!pip install tensorflow\n"
      ]
    },
    {
      "cell_type": "code",
      "execution_count": null,
      "metadata": {
        "cellView": "code",
        "colab": {
          "base_uri": "https://localhost:8080/",
          "height": 7432
        },
        "id": "F-gfms6iVYnD",
        "outputId": "a8c41eef-a8bb-4d95-fa1f-c093c0afb839"
      },
      "outputs": [],
      "source": [
        "# @title\n",
        "# Import necessary libraries\n",
        "import numpy as np\n",
        "import pandas as pd\n",
        "import tensorflow as tf\n",
        "from tensorflow.keras.models import Sequential\n",
        "from tensorflow.keras.layers import Dense\n",
        "from sklearn.model_selection import train_test_split\n",
        "from google.colab import files\n",
        "\n",
        "# Upload CSV File\n",
        "print(\"Please upload the dataset CSV file:\")\n",
        "uploaded = files.upload()\n",
        "\n",
        "# Load dataset\n",
        "filename = list(uploaded.keys())[0]  # Get uploaded file name\n",
        "df = pd.read_csv(filename)\n",
        "\n",
        "# Display first few rows of dataset\n",
        "print(\"\\nDataset Preview:\")\n",
        "print(df.head())\n",
        "\n",
        "# Extract features and labels\n",
        "X = df[['GPA', 'Interview Score', 'Skills Score']].values  # Feature columns\n",
        "Y = df[['Placement Status (Label)']].values  # Target column\n",
        "\n",
        "# Normalize feature values (scaling between 0 and 1)\n",
        "X = X / 10.0  # GPA is now on a scale from 0-10\n",
        "\n",
        "# Split the dataset into training and testing sets\n",
        "X_train, X_test, Y_train, Y_test = train_test_split(X, Y, test_size=0.2, random_state=42)\n",
        "\n",
        "# Define the Feed-Forward Neural Network Model\n",
        "model = Sequential([\n",
        "    Dense(8, activation='relu', input_shape=(3,)),  # Hidden Layer 1\n",
        "    Dense(6, activation='relu'),  # Hidden Layer 2\n",
        "    Dense(1, activation='sigmoid')  # Output Layer\n",
        "])\n",
        "\n",
        "# Compile the model\n",
        "model.compile(optimizer='adam', loss='binary_crossentropy', metrics=['accuracy'])\n",
        "\n",
        "# Train the model\n",
        "history = model.fit(X_train, Y_train, epochs=200, validation_data=(X_test, Y_test), verbose=1)\n",
        "\n",
        "# Evaluate the model on the test set\n",
        "loss, accuracy = model.evaluate(X_test, Y_test, verbose=0)\n",
        "print(f\"\\nTest Accuracy: {accuracy * 100:.2f}%\")\n",
        "\n",
        "# Take user input for prediction\n",
        "print(\"\\nEnter values to predict placement (Range: 0-10 for GPA, and Scores):\")\n",
        "gpa = float(input(\"GPA (0-10): \"))\n",
        "interview_score = float(input(\"Interview Score (0-100): \"))\n",
        "skills_score = float(input(\"Skills Score (0-100): \"))\n",
        "\n",
        "# Normalize input data\n",
        "test_data = np.array([[gpa, interview_score, skills_score]]) / np.array([10.0, 100.0, 100.0])\n",
        "\n",
        "# Predict the outcome\n",
        "prediction = model.predict(test_data)[0][0]\n",
        "\n",
        "# Interpret and display result\n",
        "placement_probability = prediction * 100\n",
        "print(f\"\\nPlacement Probability: {placement_probability:.2f}%\")\n",
        "\n",
        "if prediction >= 0.5:\n",
        "    print(\"Outcome: Placed\")\n",
        "else:\n",
        "    print(\"Outcome: Not Placed\")\n"
      ]
    }
  ],
  "metadata": {
    "colab": {
      "provenance": []
    },
    "kernelspec": {
      "display_name": "Python 3",
      "name": "python3"
    },
    "language_info": {
      "name": "python"
    }
  },
  "nbformat": 4,
  "nbformat_minor": 0
}
